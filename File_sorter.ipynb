{
 "cells": [
  {
   "cell_type": "code",
   "execution_count": 1,
   "id": "d7da45e5-0998-4fff-857e-f898367db3a9",
   "metadata": {},
   "outputs": [],
   "source": [
    "import os,shutil"
   ]
  },
  {
   "cell_type": "code",
   "execution_count": 15,
   "id": "e1bc2815-e61c-4c2f-bd70-4cc7f3c32498",
   "metadata": {},
   "outputs": [],
   "source": [
    "path = r\"C:/Users/Rathore/Documents\\ase/\""
   ]
  },
  {
   "cell_type": "code",
   "execution_count": 16,
   "id": "eafe6106-1615-4f7d-ae57-bd7201548ba2",
   "metadata": {},
   "outputs": [
    {
     "data": {
      "text/plain": [
       "['567069_Fees_Remittance.pdf',\n",
       " 'Disbursement Form.pdf',\n",
       " 'folders',\n",
       " 'image files',\n",
       " 'pdf files',\n",
       " 'photo.jpg',\n",
       " 'screenshot',\n",
       " 'Undertaking during enrollment - Senior students (1).pdf']"
      ]
     },
     "execution_count": 16,
     "metadata": {},
     "output_type": "execute_result"
    }
   ],
   "source": [
    "os.listdir(path)"
   ]
  },
  {
   "cell_type": "code",
   "execution_count": 22,
   "id": "2a23ee2a-e91d-4da4-aff8-39e85d55693a",
   "metadata": {},
   "outputs": [],
   "source": [
    "file_name = os.listdir(path)\n",
    "\n",
    "folder_name =[ 'image files','pdf files','folders']\n",
    "for loop in range(0,3):\n",
    "     if not os.path.exists(path + folder_name[loop]):\n",
    "         print(path + folder_name[loop]) \n",
    "         os.makedirs(path + folder_name[loop])\n",
    "\n",
    "for file in file_name:\n",
    "    if \".jpg\" in file and not os.path.exists(path + \"image files/\" + file):\n",
    "        shutil.move(path + file, path + \"image files/\" + file)\n",
    "    elif \".pdf\" in file and not os.path.exists(path + \"pdf files/\" + file):\n",
    "        shutil.move(path + file, path + \"pdf files/\" + file)\n"
   ]
  },
  {
   "cell_type": "code",
   "execution_count": null,
   "id": "2d3f4902-e5cf-403e-9c55-9907a6125ef9",
   "metadata": {},
   "outputs": [],
   "source": []
  }
 ],
 "metadata": {
  "kernelspec": {
   "display_name": "Python 3 (ipykernel)",
   "language": "python",
   "name": "python3"
  },
  "language_info": {
   "codemirror_mode": {
    "name": "ipython",
    "version": 3
   },
   "file_extension": ".py",
   "mimetype": "text/x-python",
   "name": "python",
   "nbconvert_exporter": "python",
   "pygments_lexer": "ipython3",
   "version": "3.13.5"
  }
 },
 "nbformat": 4,
 "nbformat_minor": 5
}
